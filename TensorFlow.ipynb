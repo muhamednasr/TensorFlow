{
 "cells": [
  {
   "cell_type": "code",
   "execution_count": 1,
   "metadata": {},
   "outputs": [],
   "source": [
    "# Run this to ensure TensorFlow 2.x is used\n",
    "try:\n",
    "  # %tensorflow_version only exists in Colab.\n",
    "  %tensorflow_version 2.x\n",
    "except Exception:\n",
    "  pass"
   ]
  },
  {
   "cell_type": "code",
   "execution_count": 118,
   "metadata": {},
   "outputs": [],
   "source": [
    "#Used Libraries \n",
    "import json\n",
    "import tensorflow as tf\n",
    "\n",
    "from tensorflow.keras.preprocessing.text import Tokenizer\n",
    "from tensorflow.keras.preprocessing.sequence import pad_sequences\n",
    "import requests\n",
    "import urllib\n",
    "import matplotlib.pyplot as plt\n",
    "import numpy as np"
   ]
  },
  {
   "cell_type": "code",
   "execution_count": 102,
   "metadata": {},
   "outputs": [],
   "source": [
    "vocab_size = 10000\n",
    "embedding_dim = 16\n",
    "max_len = 100\n",
    "trunc_type='post'\n",
    "padding_type='post'\n",
    "oov_tok = \"<OOV>\"\n",
    "training_size = 20000"
   ]
  },
  {
   "cell_type": "code",
   "execution_count": 90,
   "metadata": {},
   "outputs": [],
   "source": [
    "#Importing Data in Json format converting it to Lists\n",
    "URL='https://storage.googleapis.com/laurencemoroney-blog.appspot.com/sarcasm.json'\n",
    "# json_url=urllib.urlopen(URL)\n",
    "              \n",
    "# data=json.load(json_url.read())\n",
    "data=requests.get(URL).json()\n",
    "dictionary=data[0]\n",
    "# print (data.json())"
   ]
  },
  {
   "cell_type": "code",
   "execution_count": 91,
   "metadata": {},
   "outputs": [
    {
     "data": {
      "text/plain": [
       "{'article_link': 'https://www.huffingtonpost.com/entry/versace-black-code_us_5861fbefe4b0de3a08f600d5',\n",
       " 'headline': \"former versace store clerk sues over secret 'black code' for minority shoppers\",\n",
       " 'is_sarcastic': 0}"
      ]
     },
     "execution_count": 91,
     "metadata": {},
     "output_type": "execute_result"
    }
   ],
   "source": [
    "dictionary"
   ]
  },
  {
   "cell_type": "code",
   "execution_count": 92,
   "metadata": {},
   "outputs": [
    {
     "data": {
      "text/plain": [
       "\"former versace store clerk sues over secret 'black code' for minority shoppers\""
      ]
     },
     "execution_count": 92,
     "metadata": {},
     "output_type": "execute_result"
    }
   ],
   "source": [
    "dictionary['headline']"
   ]
  },
  {
   "cell_type": "code",
   "execution_count": 93,
   "metadata": {},
   "outputs": [
    {
     "data": {
      "text/plain": [
       "list"
      ]
     },
     "execution_count": 93,
     "metadata": {},
     "output_type": "execute_result"
    }
   ],
   "source": [
    "type(data)"
   ]
  },
  {
   "cell_type": "code",
   "execution_count": 94,
   "metadata": {},
   "outputs": [],
   "source": [
    "#Converting data into Model Form\n",
    "sentence=[]\n",
    "label=[]\n",
    "\n",
    "for item in data:\n",
    "    sentence.append(item['headline'])\n",
    "    label.append(item['is_sarcastic'])"
   ]
  },
  {
   "cell_type": "code",
   "execution_count": 95,
   "metadata": {},
   "outputs": [
    {
     "data": {
      "text/plain": [
       "\"former versace store clerk sues over secret 'black code' for minority shoppers\""
      ]
     },
     "execution_count": 95,
     "metadata": {},
     "output_type": "execute_result"
    }
   ],
   "source": [
    "sentence[0]"
   ]
  },
  {
   "cell_type": "code",
   "execution_count": 96,
   "metadata": {},
   "outputs": [],
   "source": [
    "#spliting Dataset into trainging/test folds\n",
    "training_limit=int((len(sentence)*0.8))\n",
    "\n",
    "training_sentences=sentence[0:training_limit]\n",
    "test_sentences=sentence[training_limit:]\n",
    "training_labels=label[0:training_limit]\n",
    "test_labels=label[training_limit:]"
   ]
  },
  {
   "cell_type": "code",
   "execution_count": 100,
   "metadata": {},
   "outputs": [],
   "source": [
    "#tokenization\n",
    "tokenizer=Tokenizer(num_words=vocab_size,oov_token=oov_tok)  \n",
    "# tokenizer=Tokenizer(oov_token=oov_tok)\n",
    "tokenizer.fit_on_texts(training_sentences)           #tokenizing training data only to make sure model haven't seen test data\n",
    "words_index=tokenizer.word_index"
   ]
  },
  {
   "cell_type": "code",
   "execution_count": 85,
   "metadata": {},
   "outputs": [
    {
     "data": {
      "text/plain": [
       "26507"
      ]
     },
     "execution_count": 85,
     "metadata": {},
     "output_type": "execute_result"
    }
   ],
   "source": [
    "len(words_index)"
   ]
  },
  {
   "cell_type": "code",
   "execution_count": 109,
   "metadata": {},
   "outputs": [],
   "source": [
    "#sequencing and padding training and test data\n",
    "training_sequence=tokenizer.texts_to_sequences(training_sentences)\n",
    "training_padding=pad_sequences(training_sequence,maxlen=max_len,truncating=trunc_type,padding=padding_type)\n",
    "test_sequence=tokenizer.texts_to_sequences(test_sentences)\n",
    "test_padding=pad_sequences(test_sequence,maxlen=max_len,truncating=trunc_type,padding=padding_type)"
   ]
  },
  {
   "cell_type": "code",
   "execution_count": 115,
   "metadata": {},
   "outputs": [],
   "source": [
    "# Need this block to get it to work with TensorFlow 2.x\n",
    "training_padding = np.array(training_padding)\n",
    "training_labels = np.array(training_labels)\n",
    "test_padding = np.array(test_padding)\n",
    "test_labels = np.array(test_labels)"
   ]
  },
  {
   "cell_type": "code",
   "execution_count": 110,
   "metadata": {},
   "outputs": [],
   "source": [
    "model = tf.keras.Sequential([\n",
    "    tf.keras.layers.Embedding(vocab_size, embedding_dim, input_length=max_length),\n",
    "    tf.keras.layers.GlobalAveragePooling1D(),\n",
    "    tf.keras.layers.Dense(24, activation='relu'),\n",
    "    tf.keras.layers.Dense(1, activation='sigmoid')\n",
    "])\n",
    "model.compile(loss='binary_crossentropy',optimizer='adam',metrics=['accuracy'])"
   ]
  },
  {
   "cell_type": "code",
   "execution_count": 111,
   "metadata": {},
   "outputs": [
    {
     "name": "stdout",
     "output_type": "stream",
     "text": [
      "Model: \"sequential_1\"\n",
      "_________________________________________________________________\n",
      "Layer (type)                 Output Shape              Param #   \n",
      "=================================================================\n",
      "embedding_1 (Embedding)      (None, 100, 16)           160000    \n",
      "_________________________________________________________________\n",
      "global_average_pooling1d_1 ( (None, 16)                0         \n",
      "_________________________________________________________________\n",
      "dense_2 (Dense)              (None, 24)                408       \n",
      "_________________________________________________________________\n",
      "dense_3 (Dense)              (None, 1)                 25        \n",
      "=================================================================\n",
      "Total params: 160,433\n",
      "Trainable params: 160,433\n",
      "Non-trainable params: 0\n",
      "_________________________________________________________________\n"
     ]
    }
   ],
   "source": [
    "model.summary()"
   ]
  },
  {
   "cell_type": "code",
   "execution_count": 116,
   "metadata": {},
   "outputs": [
    {
     "name": "stdout",
     "output_type": "stream",
     "text": [
      "Epoch 1/30\n",
      "668/668 - 4s - loss: 0.6566 - accuracy: 0.6006 - val_loss: 0.5413 - val_accuracy: 0.8098\n",
      "Epoch 2/30\n",
      "668/668 - 1s - loss: 0.4067 - accuracy: 0.8397 - val_loss: 0.3718 - val_accuracy: 0.8471\n",
      "Epoch 3/30\n",
      "668/668 - 1s - loss: 0.2979 - accuracy: 0.8821 - val_loss: 0.3489 - val_accuracy: 0.8560\n",
      "Epoch 4/30\n",
      "668/668 - 1s - loss: 0.2486 - accuracy: 0.9036 - val_loss: 0.3461 - val_accuracy: 0.8549\n",
      "Epoch 5/30\n",
      "668/668 - 1s - loss: 0.2159 - accuracy: 0.9175 - val_loss: 0.3496 - val_accuracy: 0.8551\n",
      "Epoch 6/30\n",
      "668/668 - 1s - loss: 0.1907 - accuracy: 0.9273 - val_loss: 0.3600 - val_accuracy: 0.8521\n",
      "Epoch 7/30\n",
      "668/668 - 1s - loss: 0.1690 - accuracy: 0.9369 - val_loss: 0.3750 - val_accuracy: 0.8510\n",
      "Epoch 8/30\n",
      "668/668 - 1s - loss: 0.1513 - accuracy: 0.9445 - val_loss: 0.3944 - val_accuracy: 0.8506\n",
      "Epoch 9/30\n",
      "668/668 - 1s - loss: 0.1375 - accuracy: 0.9519 - val_loss: 0.4183 - val_accuracy: 0.8472\n",
      "Epoch 10/30\n",
      "668/668 - 1s - loss: 0.1250 - accuracy: 0.9549 - val_loss: 0.4380 - val_accuracy: 0.8467\n",
      "Epoch 11/30\n",
      "668/668 - 1s - loss: 0.1155 - accuracy: 0.9589 - val_loss: 0.4628 - val_accuracy: 0.8431\n",
      "Epoch 12/30\n",
      "668/668 - 1s - loss: 0.1041 - accuracy: 0.9645 - val_loss: 0.4879 - val_accuracy: 0.8437\n",
      "Epoch 13/30\n",
      "668/668 - 1s - loss: 0.0952 - accuracy: 0.9669 - val_loss: 0.5260 - val_accuracy: 0.8396\n",
      "Epoch 14/30\n",
      "668/668 - 1s - loss: 0.0887 - accuracy: 0.9700 - val_loss: 0.5512 - val_accuracy: 0.8396\n",
      "Epoch 15/30\n",
      "668/668 - 1s - loss: 0.0831 - accuracy: 0.9709 - val_loss: 0.6132 - val_accuracy: 0.8252\n",
      "Epoch 16/30\n",
      "668/668 - 1s - loss: 0.0762 - accuracy: 0.9744 - val_loss: 0.6122 - val_accuracy: 0.8338\n",
      "Epoch 17/30\n",
      "668/668 - 1s - loss: 0.0708 - accuracy: 0.9757 - val_loss: 0.6611 - val_accuracy: 0.8298\n",
      "Epoch 18/30\n",
      "668/668 - 2s - loss: 0.0657 - accuracy: 0.9788 - val_loss: 0.6824 - val_accuracy: 0.8298\n",
      "Epoch 19/30\n",
      "668/668 - 2s - loss: 0.0617 - accuracy: 0.9803 - val_loss: 0.7192 - val_accuracy: 0.8194\n",
      "Epoch 20/30\n",
      "668/668 - 1s - loss: 0.0558 - accuracy: 0.9819 - val_loss: 0.7776 - val_accuracy: 0.8270\n",
      "Epoch 21/30\n",
      "668/668 - 1s - loss: 0.0534 - accuracy: 0.9831 - val_loss: 0.7941 - val_accuracy: 0.8201\n",
      "Epoch 22/30\n",
      "668/668 - 1s - loss: 0.0476 - accuracy: 0.9849 - val_loss: 0.8443 - val_accuracy: 0.8216\n",
      "Epoch 23/30\n",
      "668/668 - 1s - loss: 0.0455 - accuracy: 0.9855 - val_loss: 0.8868 - val_accuracy: 0.8233\n",
      "Epoch 24/30\n",
      "668/668 - 1s - loss: 0.0422 - accuracy: 0.9865 - val_loss: 0.9332 - val_accuracy: 0.8199\n",
      "Epoch 25/30\n",
      "668/668 - 1s - loss: 0.0390 - accuracy: 0.9877 - val_loss: 0.9535 - val_accuracy: 0.8121\n",
      "Epoch 26/30\n",
      "668/668 - 1s - loss: 0.0362 - accuracy: 0.9886 - val_loss: 0.9934 - val_accuracy: 0.8087\n",
      "Epoch 27/30\n",
      "668/668 - 1s - loss: 0.0338 - accuracy: 0.9899 - val_loss: 1.0363 - val_accuracy: 0.8096\n",
      "Epoch 28/30\n",
      "668/668 - 1s - loss: 0.0309 - accuracy: 0.9910 - val_loss: 1.1201 - val_accuracy: 0.8122\n",
      "Epoch 29/30\n",
      "668/668 - 1s - loss: 0.0303 - accuracy: 0.9914 - val_loss: 1.2059 - val_accuracy: 0.8091\n",
      "Epoch 30/30\n",
      "668/668 - 1s - loss: 0.0292 - accuracy: 0.9911 - val_loss: 1.1705 - val_accuracy: 0.8106\n"
     ]
    }
   ],
   "source": [
    "#training the Algorithm\n",
    "num_epochs = 30\n",
    "history = model.fit(training_padding, training_labels, epochs=num_epochs, validation_data=(test_padding, test_labels), verbose=2)"
   ]
  },
  {
   "cell_type": "code",
   "execution_count": 119,
   "metadata": {},
   "outputs": [
    {
     "data": {
      "image/png": "[encoded data removed]",
      "text/plain": [
       "<Figure size 432x288 with 1 Axes>"
      ]
     },
     "metadata": {
      "needs_background": "light"
     },
     "output_type": "display_data"
    },
    {
     "data": {
      "image/png": "[encoded data removed]",
      "text/plain": [
       "<Figure size 432x288 with 1 Axes>"
      ]
     },
     "metadata": {
      "needs_background": "light"
     },
     "output_type": "display_data"
    }
   ],
   "source": [
    "#plotting output\n",
    "def plot_graphs(history, string):\n",
    "  plt.plot(history.history[string])\n",
    "  plt.plot(history.history['val_'+string])\n",
    "  plt.xlabel(\"Epochs\")\n",
    "  plt.ylabel(string)\n",
    "  plt.legend([string, 'val_'+string])\n",
    "  plt.show()\n",
    "  \n",
    "plot_graphs(history, \"accuracy\")\n",
    "plot_graphs(history, \"loss\")"
   ]
  },
  {
   "cell_type": "code",
   "execution_count": 122,
   "metadata": {},
   "outputs": [
    {
     "name": "stdout",
     "output_type": "stream",
     "text": [
      "[[9.0897387e-01]\n",
      " [1.6609463e-05]]\n"
     ]
    }
   ],
   "source": [
    "#making predections\n",
    "sent = [\"granny starting to fear spiders in the garden might be real\",\n",
    "        \"game of thrones season finale showing this sunday night\"]\n",
    "\n",
    "sequences = tokenizer.texts_to_sequences(sent)\n",
    "padded = pad_sequences(sequences, maxlen=max_length, padding=padding_type, truncating=trunc_type)\n",
    "print(model.predict(padded))"
   ]
  },
  {
   "cell_type": "code",
   "execution_count": null,
   "metadata": {},
   "outputs": [],
   "source": []
  },
  {
   "cell_type": "code",
   "execution_count": null,
   "metadata": {},
   "outputs": [],
   "source": []
  }
 ],
 "metadata": {
  "kernelspec": {
   "display_name": "Python 3",
   "language": "python",
   "name": "python3"
  },
  "language_info": {
   "codemirror_mode": {
    "name": "ipython",
    "version": 3
   },
   "file_extension": ".py",
   "mimetype": "text/x-python",
   "name": "python",
   "nbconvert_exporter": "python",
   "pygments_lexer": "ipython3",
   "version": "3.8.3"
  }
 },
 "nbformat": 4,
 "nbformat_minor": 4
}
